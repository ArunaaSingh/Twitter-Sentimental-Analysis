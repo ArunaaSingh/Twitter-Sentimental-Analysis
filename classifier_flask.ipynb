{
 "cells": [
  {
   "cell_type": "code",
   "execution_count": null,
   "metadata": {},
   "outputs": [
    {
     "name": "stdout",
     "output_type": "stream",
     "text": [
      " * Serving Flask app \"__main__\" (lazy loading)\n",
      " * Environment: production\n",
      "\u001b[31m   WARNING: This is a development server. Do not use it in a production deployment.\u001b[0m\n",
      "\u001b[2m   Use a production WSGI server instead.\u001b[0m\n",
      " * Debug mode: off\n"
     ]
    },
    {
     "name": "stderr",
     "output_type": "stream",
     "text": [
      " * Running on http://127.0.0.1:5000/ (Press CTRL+C to quit)\n",
      "127.0.0.1 - - [24/Apr/2021 00:40:11] \"\u001b[33mGET / HTTP/1.1\u001b[0m\" 404 -\n",
      "127.0.0.1 - - [24/Apr/2021 00:40:16] \"\u001b[37mGET /sentiment?text=CCTV%20camera%20has%20done%20a%20great%20job HTTP/1.1\u001b[0m\" 200 -\n",
      "127.0.0.1 - - [24/Apr/2021 00:40:23] \"\u001b[37mGET /sentiment?text=CCTV%20camera%20has%20done%20a%20bad%20job HTTP/1.1\u001b[0m\" 200 -\n"
     ]
    }
   ],
   "source": [
    "import pickle\n",
    "import os\n",
    "from flask import Flask, jsonify, make_response, request, redirect\n",
    "\n",
    "app = Flask(__name__)\n",
    "app.config['JSON_AS_ASCII'] = False\n",
    "\n",
    "vectorizer = pickle.load(open('vectorizer.sav', 'rb'))\n",
    "classifier = pickle.load(open('classifier.sav', 'rb'))\n",
    "\n",
    "@app.route('/sentiment', methods=['GET', 'POST'])\n",
    "def sentiment_analysis():\n",
    "    if request.method == 'GET':\n",
    "        text = request.args.get('text')\n",
    "        if text:\n",
    "            text_vector = vectorizer.transform([text])\n",
    "            result = classifier.predict(text_vector)\n",
    "            return make_response(jsonify({'sentiment': result[0], 'text': text, 'status_code':200}), 200)\n",
    "        return make_response(jsonify({'error':'sorry! unable to parse', 'status_code':500}), 500)\n",
    "\n",
    "if __name__ == '__main__':\n",
    "   app.run()"
   ]
  },
  {
   "cell_type": "code",
   "execution_count": null,
   "metadata": {},
   "outputs": [],
   "source": []
  }
 ],
 "metadata": {
  "kernelspec": {
   "display_name": "Python 3",
   "language": "python",
   "name": "python3"
  },
  "language_info": {
   "codemirror_mode": {
    "name": "ipython",
    "version": 3
   },
   "file_extension": ".py",
   "mimetype": "text/x-python",
   "name": "python",
   "nbconvert_exporter": "python",
   "pygments_lexer": "ipython3",
   "version": "3.8.5"
  }
 },
 "nbformat": 4,
 "nbformat_minor": 4
}
